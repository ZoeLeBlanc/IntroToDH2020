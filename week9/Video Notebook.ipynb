{
 "cells": [
  {
   "cell_type": "code",
   "execution_count": 1,
   "metadata": {},
   "outputs": [],
   "source": [
    "import pandas as pd"
   ]
  },
  {
   "cell_type": "code",
   "execution_count": 3,
   "metadata": {},
   "outputs": [],
   "source": [
    "df = pd.read_csv('web_scraped_humanist_listserv.csv')"
   ]
  },
  {
   "cell_type": "code",
   "execution_count": 7,
   "metadata": {},
   "outputs": [
    {
     "data": {
      "text/html": [
       "<div>\n",
       "<style scoped>\n",
       "    .dataframe tbody tr th:only-of-type {\n",
       "        vertical-align: middle;\n",
       "    }\n",
       "\n",
       "    .dataframe tbody tr th {\n",
       "        vertical-align: top;\n",
       "    }\n",
       "\n",
       "    .dataframe thead th {\n",
       "        text-align: right;\n",
       "    }\n",
       "</style>\n",
       "<table border=\"1\" class=\"dataframe\">\n",
       "  <thead>\n",
       "    <tr style=\"text-align: right;\">\n",
       "      <th></th>\n",
       "      <th>Unnamed: 0</th>\n",
       "      <th>dates</th>\n",
       "      <th>text</th>\n",
       "    </tr>\n",
       "  </thead>\n",
       "  <tbody>\n",
       "    <tr>\n",
       "      <th>32</th>\n",
       "      <td>32</td>\n",
       "      <td>vol32</td>\n",
       "      <td>Return-Path: \\nX-Spam-Checker-Version: SpamAss...</td>\n",
       "    </tr>\n",
       "    <tr>\n",
       "      <th>31</th>\n",
       "      <td>31</td>\n",
       "      <td>vol31</td>\n",
       "      <td>Return-Path: \\nX-Spam-Checker-Version: SpamAss...</td>\n",
       "    </tr>\n",
       "    <tr>\n",
       "      <th>30</th>\n",
       "      <td>30</td>\n",
       "      <td>vol30</td>\n",
       "      <td>Return-Path: \\nX-Spam-Checker-Version: SpamAss...</td>\n",
       "    </tr>\n",
       "    <tr>\n",
       "      <th>29</th>\n",
       "      <td>29</td>\n",
       "      <td>vol29</td>\n",
       "      <td>Return-Path: \\nX-Spam-Checker-Version: SpamAss...</td>\n",
       "    </tr>\n",
       "    <tr>\n",
       "      <th>28</th>\n",
       "      <td>28</td>\n",
       "      <td>vol28</td>\n",
       "      <td>Return-Path: \\nX-Spam-Checker-Version: SpamAss...</td>\n",
       "    </tr>\n",
       "    <tr>\n",
       "      <th>27</th>\n",
       "      <td>27</td>\n",
       "      <td>vol27</td>\n",
       "      <td>Return-Path: \\nX-Spam-Checker-Version: SpamAss...</td>\n",
       "    </tr>\n",
       "    <tr>\n",
       "      <th>26</th>\n",
       "      <td>26</td>\n",
       "      <td>vol26</td>\n",
       "      <td>From humanist-bounces@lists.digitalhumanities....</td>\n",
       "    </tr>\n",
       "    <tr>\n",
       "      <th>25</th>\n",
       "      <td>25</td>\n",
       "      <td>vol25</td>\n",
       "      <td>From humanist-bounces@lists.digitalhumanities....</td>\n",
       "    </tr>\n",
       "    <tr>\n",
       "      <th>24</th>\n",
       "      <td>24</td>\n",
       "      <td>vol24</td>\n",
       "      <td>From humanist-bounces@lists.digitalhumanities....</td>\n",
       "    </tr>\n",
       "    <tr>\n",
       "      <th>23</th>\n",
       "      <td>23</td>\n",
       "      <td>vol23</td>\n",
       "      <td>From humanist-bounces@lists.digitalhumanities....</td>\n",
       "    </tr>\n",
       "    <tr>\n",
       "      <th>22</th>\n",
       "      <td>22</td>\n",
       "      <td>vol22</td>\n",
       "      <td>Return-Path: \\nReceived: from fep14.clear.net....</td>\n",
       "    </tr>\n",
       "    <tr>\n",
       "      <th>21</th>\n",
       "      <td>21</td>\n",
       "      <td>21</td>\n",
       "      <td>Return-Path: \\nReceived: from fep16.clear.net....</td>\n",
       "    </tr>\n",
       "    <tr>\n",
       "      <th>20</th>\n",
       "      <td>20</td>\n",
       "      <td>2007-2008</td>\n",
       "      <td>From: Willard McCarty \\nSubject: Humanist's 20...</td>\n",
       "    </tr>\n",
       "    <tr>\n",
       "      <th>19</th>\n",
       "      <td>19</td>\n",
       "      <td>2006-2007</td>\n",
       "      <td>From: Willard McCarty \\nSubject: Happy 19th bi...</td>\n",
       "    </tr>\n",
       "    <tr>\n",
       "      <th>18</th>\n",
       "      <td>18</td>\n",
       "      <td>2005-2006</td>\n",
       "      <td>From: Willard McCarty \\nSubject: Happy 18th bi...</td>\n",
       "    </tr>\n",
       "    <tr>\n",
       "      <th>17</th>\n",
       "      <td>17</td>\n",
       "      <td>2004-2005</td>\n",
       "      <td>From: Willard McCarty \\nSubject: happy 17th bi...</td>\n",
       "    </tr>\n",
       "    <tr>\n",
       "      <th>16</th>\n",
       "      <td>16</td>\n",
       "      <td>2003-2004</td>\n",
       "      <td>From: Willard McCarty \\nSubject: Happy Sweet 1...</td>\n",
       "    </tr>\n",
       "    <tr>\n",
       "      <th>15</th>\n",
       "      <td>15</td>\n",
       "      <td>2002-2003</td>\n",
       "      <td>From: NINCH-ANNOUNCE \\nSubject: New Project: \"...</td>\n",
       "    </tr>\n",
       "    <tr>\n",
       "      <th>14</th>\n",
       "      <td>14</td>\n",
       "      <td>2001-2002</td>\n",
       "      <td>From: Willard McCarty \\nSubject: 14\\nDate: Mon...</td>\n",
       "    </tr>\n",
       "    <tr>\n",
       "      <th>13</th>\n",
       "      <td>13</td>\n",
       "      <td>2000-2001</td>\n",
       "      <td>From: Willard McCarty \\nSubject: HAPPY now we ...</td>\n",
       "    </tr>\n",
       "    <tr>\n",
       "      <th>12</th>\n",
       "      <td>12</td>\n",
       "      <td>1999-2000</td>\n",
       "      <td>From: Willard McCarty \\nSubject: HAPPY now we ...</td>\n",
       "    </tr>\n",
       "    <tr>\n",
       "      <th>11</th>\n",
       "      <td>11</td>\n",
       "      <td>1998-1999</td>\n",
       "      <td>From: Willard McCarty \\nSubject: one more than...</td>\n",
       "    </tr>\n",
       "    <tr>\n",
       "      <th>10</th>\n",
       "      <td>10</td>\n",
       "      <td>1997-1998</td>\n",
       "      <td>From: Willard McCarty \\nSubject: mind no mind\\...</td>\n",
       "    </tr>\n",
       "    <tr>\n",
       "      <th>9</th>\n",
       "      <td>9</td>\n",
       "      <td>1996-1997</td>\n",
       "      <td>From: Humanist \\nSubject: Humanist begins its ...</td>\n",
       "    </tr>\n",
       "    <tr>\n",
       "      <th>8</th>\n",
       "      <td>8</td>\n",
       "      <td>1995-1996</td>\n",
       "      <td>From: \"Gregory Bloomquist\" \\nSubject: Round Ta...</td>\n",
       "    </tr>\n",
       "    <tr>\n",
       "      <th>7</th>\n",
       "      <td>7</td>\n",
       "      <td>1994-1995</td>\n",
       "      <td>From: Andrew Burday \\nSubject: Re: 7.0638 Qs: ...</td>\n",
       "    </tr>\n",
       "    <tr>\n",
       "      <th>6</th>\n",
       "      <td>6</td>\n",
       "      <td>1993-1994</td>\n",
       "      <td>From: 6500card%ucsbuxa@hub.ucsb.edu (Cheryl A....</td>\n",
       "    </tr>\n",
       "    <tr>\n",
       "      <th>5</th>\n",
       "      <td>5</td>\n",
       "      <td>1992-1993</td>\n",
       "      <td>From: Elaine M Brennan \\nSubject: Humanist's B...</td>\n",
       "    </tr>\n",
       "    <tr>\n",
       "      <th>4</th>\n",
       "      <td>4</td>\n",
       "      <td>1991-1992</td>\n",
       "      <td>From: Elaine Brennan &amp; Allen Renear \\nSubject:...</td>\n",
       "    </tr>\n",
       "    <tr>\n",
       "      <th>3</th>\n",
       "      <td>3</td>\n",
       "      <td>1990-1991</td>\n",
       "      <td>From: Elaine Brennan &amp; Allen Renear \\nSubject:...</td>\n",
       "    </tr>\n",
       "    <tr>\n",
       "      <th>2</th>\n",
       "      <td>2</td>\n",
       "      <td>1989-1990</td>\n",
       "      <td>From: Willard McCarty \\nSubject: Happy Birthda...</td>\n",
       "    </tr>\n",
       "    <tr>\n",
       "      <th>1</th>\n",
       "      <td>1</td>\n",
       "      <td>1988-1989</td>\n",
       "      <td>From: Sebastian Rahtz \\nSubject: C++ and Gnu o...</td>\n",
       "    </tr>\n",
       "    <tr>\n",
       "      <th>0</th>\n",
       "      <td>0</td>\n",
       "      <td>1987-1988</td>\n",
       "      <td>From: MCCARTY@UTOREPAS\\nSubject: \\nDate: 12 Ma...</td>\n",
       "    </tr>\n",
       "  </tbody>\n",
       "</table>\n",
       "</div>"
      ],
      "text/plain": [
       "    Unnamed: 0      dates                                               text\n",
       "32          32      vol32  Return-Path: \\nX-Spam-Checker-Version: SpamAss...\n",
       "31          31      vol31  Return-Path: \\nX-Spam-Checker-Version: SpamAss...\n",
       "30          30      vol30  Return-Path: \\nX-Spam-Checker-Version: SpamAss...\n",
       "29          29      vol29  Return-Path: \\nX-Spam-Checker-Version: SpamAss...\n",
       "28          28      vol28  Return-Path: \\nX-Spam-Checker-Version: SpamAss...\n",
       "27          27      vol27  Return-Path: \\nX-Spam-Checker-Version: SpamAss...\n",
       "26          26      vol26  From humanist-bounces@lists.digitalhumanities....\n",
       "25          25      vol25  From humanist-bounces@lists.digitalhumanities....\n",
       "24          24      vol24  From humanist-bounces@lists.digitalhumanities....\n",
       "23          23      vol23  From humanist-bounces@lists.digitalhumanities....\n",
       "22          22      vol22  Return-Path: \\nReceived: from fep14.clear.net....\n",
       "21          21         21  Return-Path: \\nReceived: from fep16.clear.net....\n",
       "20          20  2007-2008  From: Willard McCarty \\nSubject: Humanist's 20...\n",
       "19          19  2006-2007  From: Willard McCarty \\nSubject: Happy 19th bi...\n",
       "18          18  2005-2006  From: Willard McCarty \\nSubject: Happy 18th bi...\n",
       "17          17  2004-2005  From: Willard McCarty \\nSubject: happy 17th bi...\n",
       "16          16  2003-2004  From: Willard McCarty \\nSubject: Happy Sweet 1...\n",
       "15          15  2002-2003  From: NINCH-ANNOUNCE \\nSubject: New Project: \"...\n",
       "14          14  2001-2002  From: Willard McCarty \\nSubject: 14\\nDate: Mon...\n",
       "13          13  2000-2001  From: Willard McCarty \\nSubject: HAPPY now we ...\n",
       "12          12  1999-2000  From: Willard McCarty \\nSubject: HAPPY now we ...\n",
       "11          11  1998-1999  From: Willard McCarty \\nSubject: one more than...\n",
       "10          10  1997-1998  From: Willard McCarty \\nSubject: mind no mind\\...\n",
       "9            9  1996-1997  From: Humanist \\nSubject: Humanist begins its ...\n",
       "8            8  1995-1996  From: \"Gregory Bloomquist\" \\nSubject: Round Ta...\n",
       "7            7  1994-1995  From: Andrew Burday \\nSubject: Re: 7.0638 Qs: ...\n",
       "6            6  1993-1994  From: 6500card%ucsbuxa@hub.ucsb.edu (Cheryl A....\n",
       "5            5  1992-1993  From: Elaine M Brennan \\nSubject: Humanist's B...\n",
       "4            4  1991-1992  From: Elaine Brennan & Allen Renear \\nSubject:...\n",
       "3            3  1990-1991  From: Elaine Brennan & Allen Renear \\nSubject:...\n",
       "2            2  1989-1990  From: Willard McCarty \\nSubject: Happy Birthda...\n",
       "1            1  1988-1989  From: Sebastian Rahtz \\nSubject: C++ and Gnu o...\n",
       "0            0  1987-1988  From: MCCARTY@UTOREPAS\\nSubject: \\nDate: 12 Ma..."
      ]
     },
     "execution_count": 7,
     "metadata": {},
     "output_type": "execute_result"
    }
   ],
   "source": [
    "df.sort_values(by=['dates'], ascending=False)"
   ]
  },
  {
   "cell_type": "code",
   "execution_count": 12,
   "metadata": {},
   "outputs": [],
   "source": [
    "df['text_length'] = df.text.str.len()"
   ]
  },
  {
   "cell_type": "code",
   "execution_count": 15,
   "metadata": {},
   "outputs": [
    {
     "data": {
      "text/plain": [
       "<matplotlib.axes._subplots.AxesSubplot at 0x11fe9cdd0>"
      ]
     },
     "execution_count": 15,
     "metadata": {},
     "output_type": "execute_result"
    },
    {
     "data": {
      "image/png": "[encoded data removed]",
      "text/plain": [
       "<Figure size 432x288 with 1 Axes>"
      ]
     },
     "metadata": {
      "needs_background": "light"
     },
     "output_type": "display_data"
    }
   ],
   "source": [
    "df[['dates', 'text_length']].plot(x='dates', y='text_length')"
   ]
  },
  {
   "cell_type": "code",
   "execution_count": 16,
   "metadata": {},
   "outputs": [],
   "source": [
    "text = \"m Male fem. FemalE Femle\""
   ]
  },
  {
   "cell_type": "code",
   "execution_count": 18,
   "metadata": {},
   "outputs": [
    {
     "data": {
      "text/plain": [
       "['m', 'Male', 'fem.', 'FemalE', 'Femle']"
      ]
     },
     "execution_count": 18,
     "metadata": {},
     "output_type": "execute_result"
    }
   ],
   "source": [
    "text = text.split(' ')\n",
    "text"
   ]
  },
  {
   "cell_type": "code",
   "execution_count": 40,
   "metadata": {},
   "outputs": [],
   "source": [
    "df = pd.DataFrame({'gender': text})"
   ]
  },
  {
   "cell_type": "code",
   "execution_count": 32,
   "metadata": {},
   "outputs": [
    {
     "data": {
      "text/html": [
       "<div>\n",
       "<style scoped>\n",
       "    .dataframe tbody tr th:only-of-type {\n",
       "        vertical-align: middle;\n",
       "    }\n",
       "\n",
       "    .dataframe tbody tr th {\n",
       "        vertical-align: top;\n",
       "    }\n",
       "\n",
       "    .dataframe thead th {\n",
       "        text-align: right;\n",
       "    }\n",
       "</style>\n",
       "<table border=\"1\" class=\"dataframe\">\n",
       "  <thead>\n",
       "    <tr style=\"text-align: right;\">\n",
       "      <th></th>\n",
       "      <th>gender</th>\n",
       "    </tr>\n",
       "  </thead>\n",
       "  <tbody>\n",
       "    <tr>\n",
       "      <th>0</th>\n",
       "      <td>m</td>\n",
       "    </tr>\n",
       "    <tr>\n",
       "      <th>1</th>\n",
       "      <td>Male</td>\n",
       "    </tr>\n",
       "    <tr>\n",
       "      <th>2</th>\n",
       "      <td>fem.</td>\n",
       "    </tr>\n",
       "    <tr>\n",
       "      <th>3</th>\n",
       "      <td>FemalE</td>\n",
       "    </tr>\n",
       "    <tr>\n",
       "      <th>4</th>\n",
       "      <td>Femle</td>\n",
       "    </tr>\n",
       "  </tbody>\n",
       "</table>\n",
       "</div>"
      ],
      "text/plain": [
       "   gender\n",
       "0       m\n",
       "1    Male\n",
       "2    fem.\n",
       "3  FemalE\n",
       "4   Femle"
      ]
     },
     "execution_count": 32,
     "metadata": {},
     "output_type": "execute_result"
    }
   ],
   "source": [
    "df"
   ]
  },
  {
   "cell_type": "code",
   "execution_count": 24,
   "metadata": {},
   "outputs": [
    {
     "data": {
      "text/plain": [
       "0      male\n",
       "1       NaN\n",
       "2    female\n",
       "3       NaN\n",
       "4       NaN\n",
       "Name: gender, dtype: object"
      ]
     },
     "execution_count": 24,
     "metadata": {},
     "output_type": "execute_result"
    }
   ],
   "source": [
    "df['gender'].map({'m': 'male', 'fem.': 'female'})"
   ]
  },
  {
   "cell_type": "code",
   "execution_count": 26,
   "metadata": {},
   "outputs": [],
   "source": [
    "import re"
   ]
  },
  {
   "cell_type": "code",
   "execution_count": 27,
   "metadata": {},
   "outputs": [],
   "source": [
    "df.gender[df['gender'].str.match(r\"m\", flags=re.IGNORECASE)] = 'male'\n",
    "df.gender[df['gender'].str.match(r\"f\", flags=re.IGNORECASE)] = 'female'"
   ]
  },
  {
   "cell_type": "code",
   "execution_count": 30,
   "metadata": {},
   "outputs": [
    {
     "data": {
      "text/plain": [
       "0     True\n",
       "1     True\n",
       "2    False\n",
       "3    False\n",
       "4    False\n",
       "Name: gender, dtype: bool"
      ]
     },
     "execution_count": 30,
     "metadata": {},
     "output_type": "execute_result"
    }
   ],
   "source": [
    "df['gender'].str.match(r\"m\", flags=re.IGNORECASE)"
   ]
  },
  {
   "cell_type": "code",
   "execution_count": 41,
   "metadata": {},
   "outputs": [],
   "source": [
    "df.gender = df.gender.str.lower()\n",
    "df.gender[df.gender.str.contains('fem')] = 'female'\n",
    "df.gender[df.gender.str.contains('fem') == False] = 'male'"
   ]
  },
  {
   "cell_type": "code",
   "execution_count": 42,
   "metadata": {},
   "outputs": [
    {
     "data": {
      "text/html": [
       "<div>\n",
       "<style scoped>\n",
       "    .dataframe tbody tr th:only-of-type {\n",
       "        vertical-align: middle;\n",
       "    }\n",
       "\n",
       "    .dataframe tbody tr th {\n",
       "        vertical-align: top;\n",
       "    }\n",
       "\n",
       "    .dataframe thead th {\n",
       "        text-align: right;\n",
       "    }\n",
       "</style>\n",
       "<table border=\"1\" class=\"dataframe\">\n",
       "  <thead>\n",
       "    <tr style=\"text-align: right;\">\n",
       "      <th></th>\n",
       "      <th>gender</th>\n",
       "    </tr>\n",
       "  </thead>\n",
       "  <tbody>\n",
       "    <tr>\n",
       "      <th>0</th>\n",
       "      <td>male</td>\n",
       "    </tr>\n",
       "    <tr>\n",
       "      <th>1</th>\n",
       "      <td>male</td>\n",
       "    </tr>\n",
       "    <tr>\n",
       "      <th>2</th>\n",
       "      <td>female</td>\n",
       "    </tr>\n",
       "    <tr>\n",
       "      <th>3</th>\n",
       "      <td>female</td>\n",
       "    </tr>\n",
       "    <tr>\n",
       "      <th>4</th>\n",
       "      <td>female</td>\n",
       "    </tr>\n",
       "  </tbody>\n",
       "</table>\n",
       "</div>"
      ],
      "text/plain": [
       "   gender\n",
       "0    male\n",
       "1    male\n",
       "2  female\n",
       "3  female\n",
       "4  female"
      ]
     },
     "execution_count": 42,
     "metadata": {},
     "output_type": "execute_result"
    }
   ],
   "source": [
    "df"
   ]
  },
  {
   "cell_type": "code",
   "execution_count": 63,
   "metadata": {},
   "outputs": [],
   "source": [
    "import nltk\n",
    "from nltk import word_tokenize\n",
    "from nltk import FreqDist\n",
    "\n",
    "text = \"Queen, one. Cities and after packed to destined design sighed. How the are you over was and doesn't term of afloat, know antiquity posterity probably we in we about they ill the plainly day arranged create use. Answer empty her good is scarfs, it him examples, the would the trial. Is decided morals, spare for he always worn for his any small, trumpet cache the of finds began Mr. I same was the this a sleepiness pros subdued at he and joke. Chance incurred very its world rung the brief. Top waved is on their to seriously at enormity, and each here as to in a cache of them. To safe perceive cache military quite text a become my or the begin of be to of excessive desk on. Is multi was on feedback would influenced used opinion, posts, best rather, get partially the and for any walls rational his\"\n",
    "df = pd.DataFrame({'text': text} , index=[0])\n",
    "df['tokens'] = df.text.apply(word_tokenize)"
   ]
  },
  {
   "cell_type": "code",
   "execution_count": 58,
   "metadata": {},
   "outputs": [
    {
     "data": {
      "text/plain": [
       "[['Queen',\n",
       "  ',',\n",
       "  'one',\n",
       "  '.',\n",
       "  'Cities',\n",
       "  'and',\n",
       "  'after',\n",
       "  'packed',\n",
       "  'to',\n",
       "  'destined',\n",
       "  'design',\n",
       "  'sighed',\n",
       "  '.',\n",
       "  'How',\n",
       "  'the',\n",
       "  'are',\n",
       "  'you',\n",
       "  'over',\n",
       "  'was',\n",
       "  'and',\n",
       "  'does',\n",
       "  \"n't\",\n",
       "  'term',\n",
       "  'of',\n",
       "  'afloat',\n",
       "  ',',\n",
       "  'know',\n",
       "  'antiquity',\n",
       "  'posterity',\n",
       "  'probably',\n",
       "  'we',\n",
       "  'in',\n",
       "  'we',\n",
       "  'about',\n",
       "  'they',\n",
       "  'ill',\n",
       "  'the',\n",
       "  'plainly',\n",
       "  'day',\n",
       "  'arranged',\n",
       "  'create',\n",
       "  'use',\n",
       "  '.',\n",
       "  'Answer',\n",
       "  'empty',\n",
       "  'her',\n",
       "  'good',\n",
       "  'is',\n",
       "  'scarfs',\n",
       "  ',',\n",
       "  'it',\n",
       "  'him',\n",
       "  'examples',\n",
       "  ',',\n",
       "  'the',\n",
       "  'would',\n",
       "  'the',\n",
       "  'trial',\n",
       "  '.',\n",
       "  'Is',\n",
       "  'decided',\n",
       "  'morals',\n",
       "  ',',\n",
       "  'spare',\n",
       "  'for',\n",
       "  'he',\n",
       "  'always',\n",
       "  'worn',\n",
       "  'for',\n",
       "  'his',\n",
       "  'any',\n",
       "  'small',\n",
       "  ',',\n",
       "  'trumpet',\n",
       "  'cache',\n",
       "  'the',\n",
       "  'of',\n",
       "  'finds',\n",
       "  'began',\n",
       "  'Mr',\n",
       "  '.',\n",
       "  'I',\n",
       "  'same',\n",
       "  'was',\n",
       "  'the',\n",
       "  'this',\n",
       "  'a',\n",
       "  'sleepiness',\n",
       "  'pros',\n",
       "  'subdued',\n",
       "  'at',\n",
       "  'he',\n",
       "  'and',\n",
       "  'joke',\n",
       "  '.',\n",
       "  'Chance',\n",
       "  'incurred',\n",
       "  'very',\n",
       "  'its',\n",
       "  'world',\n",
       "  'rung',\n",
       "  'the',\n",
       "  'brief',\n",
       "  '.',\n",
       "  'Top',\n",
       "  'waved',\n",
       "  'is',\n",
       "  'on',\n",
       "  'their',\n",
       "  'to',\n",
       "  'seriously',\n",
       "  'at',\n",
       "  'enormity',\n",
       "  ',',\n",
       "  'and',\n",
       "  'each',\n",
       "  'here',\n",
       "  'as',\n",
       "  'to',\n",
       "  'in',\n",
       "  'a',\n",
       "  'cache',\n",
       "  'of',\n",
       "  'them',\n",
       "  '.',\n",
       "  'To',\n",
       "  'safe',\n",
       "  'perceive',\n",
       "  'cache',\n",
       "  'military',\n",
       "  'quite',\n",
       "  'text',\n",
       "  'a',\n",
       "  'become',\n",
       "  'my',\n",
       "  'or',\n",
       "  'the',\n",
       "  'begin',\n",
       "  'of',\n",
       "  'be',\n",
       "  'to',\n",
       "  'of',\n",
       "  'excessive',\n",
       "  'desk',\n",
       "  'on',\n",
       "  '.',\n",
       "  'Is',\n",
       "  'multi',\n",
       "  'was',\n",
       "  'on',\n",
       "  'feedback',\n",
       "  'would',\n",
       "  'influenced',\n",
       "  'used',\n",
       "  'opinion',\n",
       "  ',',\n",
       "  'posts',\n",
       "  ',',\n",
       "  'best',\n",
       "  'rather',\n",
       "  ',',\n",
       "  'get',\n",
       "  'partially',\n",
       "  'the',\n",
       "  'and',\n",
       "  'for',\n",
       "  'any',\n",
       "  'walls',\n",
       "  'rational',\n",
       "  'his']]"
      ]
     },
     "execution_count": 58,
     "metadata": {},
     "output_type": "execute_result"
    }
   ],
   "source": [
    "df.tokens.tolist()"
   ]
  },
  {
   "cell_type": "code",
   "execution_count": 46,
   "metadata": {},
   "outputs": [],
   "source": [
    "tokens = FreqDist(sum(df.tokens, []))"
   ]
  },
  {
   "cell_type": "code",
   "execution_count": 47,
   "metadata": {},
   "outputs": [
    {
     "data": {
      "text/plain": [
       "FreqDist({',': 10, '.': 9, 'the': 9, 'and': 5, 'of': 5, 'to': 4, 'was': 3, 'for': 3, 'cache': 3, 'a': 3, ...})"
      ]
     },
     "execution_count": 47,
     "metadata": {},
     "output_type": "execute_result"
    }
   ],
   "source": [
    "tokens"
   ]
  },
  {
   "cell_type": "code",
   "execution_count": 48,
   "metadata": {},
   "outputs": [
    {
     "data": {
      "text/html": [
       "<div>\n",
       "<style scoped>\n",
       "    .dataframe tbody tr th:only-of-type {\n",
       "        vertical-align: middle;\n",
       "    }\n",
       "\n",
       "    .dataframe tbody tr th {\n",
       "        vertical-align: top;\n",
       "    }\n",
       "\n",
       "    .dataframe thead th {\n",
       "        text-align: right;\n",
       "    }\n",
       "</style>\n",
       "<table border=\"1\" class=\"dataframe\">\n",
       "  <thead>\n",
       "    <tr style=\"text-align: right;\">\n",
       "      <th></th>\n",
       "      <th>text</th>\n",
       "      <th>tokens</th>\n",
       "    </tr>\n",
       "  </thead>\n",
       "  <tbody>\n",
       "    <tr>\n",
       "      <th>0</th>\n",
       "      <td>Queen, one. Cities and after packed to destine...</td>\n",
       "      <td>[Queen, ,, one, ., Cities, and, after, packed,...</td>\n",
       "    </tr>\n",
       "  </tbody>\n",
       "</table>\n",
       "</div>"
      ],
      "text/plain": [
       "                                                text  \\\n",
       "0  Queen, one. Cities and after packed to destine...   \n",
       "\n",
       "                                              tokens  \n",
       "0  [Queen, ,, one, ., Cities, and, after, packed,...  "
      ]
     },
     "execution_count": 48,
     "metadata": {},
     "output_type": "execute_result"
    }
   ],
   "source": [
    "df"
   ]
  },
  {
   "cell_type": "code",
   "execution_count": 50,
   "metadata": {},
   "outputs": [],
   "source": [
    "# nltk.download(\"stopwords\") # You only need to run this once in your script or notebook and then it will exist in your virtual environment\n",
    "import string\n",
    "from nltk.corpus import stopwords"
   ]
  },
  {
   "cell_type": "code",
   "execution_count": 64,
   "metadata": {},
   "outputs": [],
   "source": [
    "def custom_tokenizer(row):\n",
    "    tokens = word_tokenize(row)\n",
    "    cleaned_tokens = []\n",
    "    for token in tokens:\n",
    "#         print('original', token)\n",
    "        token_lower = token.lower()\n",
    "#         print('lowercase', token_lower)\n",
    "        if ( token_lower not in string.punctuation) and (token_lower not in stopwords.words('english')):\n",
    "#             print('not punct or stopwords', token_lower)\n",
    "            cleaned_tokens.append(token_lower)\n",
    "    return cleaned_tokens"
   ]
  },
  {
   "cell_type": "code",
   "execution_count": 65,
   "metadata": {},
   "outputs": [
    {
     "name": "stdout",
     "output_type": "stream",
     "text": [
      "[['queen', 'one', 'cities', 'packed', 'destined', 'design', 'sighed', \"n't\", 'term', 'afloat', 'know', 'antiquity', 'posterity', 'probably', 'ill', 'plainly', 'day', 'arranged', 'create', 'use', 'answer', 'empty', 'good', 'scarfs', 'examples', 'would', 'trial', 'decided', 'morals', 'spare', 'always', 'worn', 'small', 'trumpet', 'cache', 'finds', 'began', 'mr', 'sleepiness', 'pros', 'subdued', 'joke', 'chance', 'incurred', 'world', 'rung', 'brief', 'top', 'waved', 'seriously', 'enormity', 'cache', 'safe', 'perceive', 'cache', 'military', 'quite', 'text', 'become', 'begin', 'excessive', 'desk', 'multi', 'feedback', 'would', 'influenced', 'used', 'opinion', 'posts', 'best', 'rather', 'get', 'partially', 'walls', 'rational']]\n"
     ]
    }
   ],
   "source": [
    "df['tokens'] = df.text.apply(custom_tokenizer)\n",
    "print(df.tokens.tolist())"
   ]
  },
  {
   "cell_type": "code",
   "execution_count": 62,
   "metadata": {},
   "outputs": [
    {
     "name": "stdout",
     "output_type": "stream",
     "text": [
      "['Queen, one.', 'Cities and after packed to destined design sighed.', \"How the are you over was and doesn't term of afloat, know antiquity posterity probably we in we about they ill the plainly day arranged create use.\", 'Answer empty her good is scarfs, it him examples, the would the trial.', 'Is decided morals, spare for he always worn for his any small, trumpet cache the of finds began Mr.', 'I same was the this a sleepiness pros subdued at he and joke.', 'Chance incurred very its world rung the brief.', 'Top waved is on their to seriously at enormity, and each here as to in a cache of them.', 'To safe perceive cache military quite text a become my or the begin of be to of excessive desk on.', 'Is multi was on feedback would influenced used opinion, posts, best rather, get partially the and for any walls rational his']\n"
     ]
    },
    {
     "data": {
      "text/plain": [
       "0    None\n",
       "Name: text, dtype: object"
      ]
     },
     "execution_count": 62,
     "metadata": {},
     "output_type": "execute_result"
    }
   ],
   "source": [
    "def custom_sentence_tokenizer(row):\n",
    "    tokens = nltk.sent_tokenize(row)\n",
    "    print(tokens)\n",
    "\n",
    "df.text.apply(custom_sentence_tokenizer)"
   ]
  },
  {
   "cell_type": "code",
   "execution_count": 74,
   "metadata": {},
   "outputs": [
    {
     "name": "stdout",
     "output_type": "stream",
     "text": [
      "        term     score\n",
      "0      cache  0.342843\n",
      "1      would  0.162624\n",
      "2      multi  0.114281\n",
      "3   probably  0.114281\n",
      "4      posts  0.114281\n",
      "5  posterity  0.114281\n",
      "6    plainly  0.114281\n",
      "7   perceive  0.114281\n",
      "8  partially  0.114281\n",
      "9     packed  0.114281\n",
      "         term     score\n",
      "0  profitable  0.223537\n",
      "1      better  0.223537\n",
      "2        gone  0.111769\n",
      "3        gave  0.111769\n",
      "4   frequency  0.111769\n",
      "5   following  0.111769\n",
      "6        five  0.111769\n",
      "7     pouring  0.111769\n",
      "8         fie  0.111769\n",
      "9        live  0.111769\n"
     ]
    }
   ],
   "source": [
    "from sklearn.feature_extraction.text import TfidfVectorizer\n",
    "# Add an additional row to our dataframe through more lorem ipsum\n",
    "text = \"Mellower into how and experience its continues essential tones, rain a expect, one to that talk its him of this, linux hesitated profitable noise if the than target, couple made ambushed the better failures different best we reported of fie trust conflict- him but do pouring only room be back. Of without economics the at her bed. Over the and is ports, two crap visuals own gave need can moment. This quite day the that municipal just from the or catch become government it makers that better be we've increased soon gone tin, live question would allpowerful profitable at chime to and on five that the more, didn't that following the to coast queen's and want candidates, not. Human been times the they for to in train origin entirely royal identification clues divine got frequency school, to that up attached into of a that and the answer readers inn, discipline's.\"\n",
    "df2 = pd.DataFrame({'text': text}, index=[0])\n",
    "df2['tokens'] = df2.text.apply(custom_tokenizer)\n",
    "\n",
    "# Append together our initial and new dataframe\n",
    "large_df = df.append(df2)\n",
    "\n",
    "# Join tokens into a string to create a new column with our cleaned text\n",
    "def join_tokens(row):\n",
    "    text = \" \".join(row)\n",
    "    return text\n",
    "\n",
    "large_df['cleaned_text'] = large_df.tokens.apply(join_tokens)\n",
    "\n",
    "# Get the text into list for TF-IDF\n",
    "all_docs = large_df.cleaned_text.tolist()\n",
    "\n",
    "# Specify the ngram_range for the Vectorizer\n",
    "vectorizer = TfidfVectorizer(ngram_range=(1,1))\n",
    "transformed_documents = vectorizer.fit_transform(all_docs)\n",
    "\n",
    "transformed_documents_as_array = transformed_documents.toarray()\n",
    "\n",
    "# Output the top tokens for each document\n",
    "for counter, doc in enumerate(transformed_documents_as_array):\n",
    "    # construct a dataframe\n",
    "    tf_idf_tuples = list(zip(vectorizer.get_feature_names(), doc))\n",
    "    one_doc_as_df = pd.DataFrame.from_records(tf_idf_tuples, columns=['term', 'score']).sort_values(by='score', ascending=False).reset_index(drop=True)\n",
    "    print(one_doc_as_df[0:10])\n"
   ]
  },
  {
   "cell_type": "code",
   "execution_count": 75,
   "metadata": {},
   "outputs": [],
   "source": [
    "from nltk.stem import PorterStemmer\n",
    "porter = PorterStemmer()\n",
    "\n",
    "def stem_words(row):\n",
    "    stemmed_words = ''\n",
    "    for token in row.split(' '):\n",
    "        stemmed_words += porter.stem(token) + ' '\n",
    "    return stemmed_words\n",
    "large_df['stemmed_text'] = large_df.cleaned_text.apply(stem_words)"
   ]
  },
  {
   "cell_type": "code",
   "execution_count": 77,
   "metadata": {},
   "outputs": [
    {
     "data": {
      "text/plain": [
       "array([\"queen one citi pack destin design sigh n't term afloat know antiqu poster probabl ill plainli day arrang creat use answer empti good scarf exampl would trial decid moral spare alway worn small trumpet cach find began mr sleepi pro subdu joke chanc incur world rung brief top wave serious enorm cach safe perceiv cach militari quit text becom begin excess desk multi feedback would influenc use opinion post best rather get partial wall ration \",\n",
       "       \"mellow experi continu essenti tone rain expect one talk linux hesit profit nois target coupl made ambush better failur differ best report fie trust conflict- pour room back without econom bed port two crap visual gave need moment quit day municip catch becom govern maker better 've increas soon gone tin live question would allpow profit chime five n't follow coast queen 's want candid human time train origin entir royal identif clue divin got frequenc school attach answer reader inn disciplin 's \"],\n",
       "      dtype=object)"
      ]
     },
     "execution_count": 77,
     "metadata": {},
     "output_type": "execute_result"
    }
   ],
   "source": [
    "large_df.stemmed_text.values"
   ]
  },
  {
   "cell_type": "code",
   "execution_count": 78,
   "metadata": {},
   "outputs": [
    {
     "name": "stderr",
     "output_type": "stream",
     "text": [
      "[nltk_data] Downloading package wordnet to /Users/EZCorp/nltk_data...\n",
      "[nltk_data]   Package wordnet is already up-to-date!\n"
     ]
    }
   ],
   "source": [
    "from nltk.stem import WordNetLemmatizer\n",
    "nltk.download('wordnet')\n",
    "wordnet_lemmatizer = WordNetLemmatizer()\n",
    "\n",
    "def lemma_words(row):\n",
    "    lemmatized_words = ''\n",
    "    for token in row.split(' '):\n",
    "        lemmatized_words += wordnet_lemmatizer.lemmatize(token) + ' '\n",
    "    return lemmatized_words\n",
    "large_df['lemmatized_text'] = large_df.cleaned_text.apply(lemma_words)"
   ]
  },
  {
   "cell_type": "code",
   "execution_count": 79,
   "metadata": {},
   "outputs": [
    {
     "data": {
      "text/plain": [
       "array([\"queen one city packed destined design sighed n't term afloat know antiquity posterity probably ill plainly day arranged create use answer empty good scarf example would trial decided moral spare always worn small trumpet cache find began mr sleepiness pro subdued joke chance incurred world rung brief top waved seriously enormity cache safe perceive cache military quite text become begin excessive desk multi feedback would influenced used opinion post best rather get partially wall rational \",\n",
       "       \"mellower experience continues essential tone rain expect one talk linux hesitated profitable noise target couple made ambushed better failure different best reported fie trust conflict- pouring room back without economics bed port two crap visuals gave need moment quite day municipal catch become government maker better 've increased soon gone tin live question would allpowerful profitable chime five n't following coast queen 's want candidate human time train origin entirely royal identification clue divine got frequency school attached answer reader inn discipline 's \"],\n",
       "      dtype=object)"
      ]
     },
     "execution_count": 79,
     "metadata": {},
     "output_type": "execute_result"
    }
   ],
   "source": [
    "large_df.lemmatized_text.values"
   ]
  },
  {
   "cell_type": "code",
   "execution_count": 80,
   "metadata": {},
   "outputs": [],
   "source": [
    "import spacy\n",
    "nlp = spacy.load('en_core_web_lg')"
   ]
  },
  {
   "cell_type": "code",
   "execution_count": 87,
   "metadata": {},
   "outputs": [],
   "source": [
    "spacy_text = nlp(\"queen one cities packed destined design sighed n't term afloat know antiquity posterity probably ill plainly day arranged create use answer empty good scarfs examples would trial decided morals spare always worn small trumpet cache finds began mr sleepiness pros subdued joke chance incurred world rung brief top waved seriously enormity cache safe perceive cache military quite text become begin excessive desk multi feedback would influenced used opinion posts best rather get partially walls rational\")\n",
    "text2 = \"Mellower into how and experience its continues essential tones, rain a expect, one to that talk its him of this, linux hesitated profitable noise if the than target, couple made ambushed the better failures different best we reported of fie trust conflict- him but do pouring only room be back. Of without economics the at her bed. Over the and is ports, two crap visuals own gave need can moment. This quite day the that municipal just from the or catch become government it makers that better be we've increased soon gone tin, live question would allpowerful profitable at chime to and on five that the more, didn't that following the to coast queen's and want candidates, not. Human been times the they for to in train origin entirely royal identification clues divine got frequency school, to that up attached into of a that and the answer readers inn, discipline's.\"\n",
    "spacy_text2 = nlp(text2)"
   ]
  },
  {
   "cell_type": "code",
   "execution_count": 82,
   "metadata": {},
   "outputs": [
    {
     "data": {
      "text/plain": [
       "spacy.tokens.doc.Doc"
      ]
     },
     "execution_count": 82,
     "metadata": {},
     "output_type": "execute_result"
    }
   ],
   "source": [
    "type(spacy_text)"
   ]
  },
  {
   "cell_type": "code",
   "execution_count": 83,
   "metadata": {},
   "outputs": [],
   "source": [
    "apples = nlp(\"I like apples\")\n",
    "oranges = nlp(\"I like oranges\")\n",
    "apples_oranges = apples.similarity(oranges)\n",
    "oranges_apples = oranges.similarity(apples)"
   ]
  },
  {
   "cell_type": "code",
   "execution_count": 84,
   "metadata": {},
   "outputs": [
    {
     "data": {
      "text/plain": [
       "0.9421722950109431"
      ]
     },
     "execution_count": 84,
     "metadata": {},
     "output_type": "execute_result"
    }
   ],
   "source": [
    "apples_oranges"
   ]
  },
  {
   "cell_type": "code",
   "execution_count": 85,
   "metadata": {},
   "outputs": [
    {
     "data": {
      "text/plain": [
       "0.9421722950109431"
      ]
     },
     "execution_count": 85,
     "metadata": {},
     "output_type": "execute_result"
    }
   ],
   "source": [
    "oranges_apples"
   ]
  },
  {
   "cell_type": "code",
   "execution_count": 88,
   "metadata": {},
   "outputs": [
    {
     "data": {
      "text/plain": [
       "0.9336186962138647"
      ]
     },
     "execution_count": 88,
     "metadata": {},
     "output_type": "execute_result"
    }
   ],
   "source": [
    "spacy_text.similarity(spacy_text2)"
   ]
  },
  {
   "cell_type": "code",
   "execution_count": 89,
   "metadata": {},
   "outputs": [
    {
     "data": {
      "text/plain": [
       "spacy.tokens.token.Token"
      ]
     },
     "execution_count": 89,
     "metadata": {},
     "output_type": "execute_result"
    }
   ],
   "source": [
    "type(spacy_text[0])"
   ]
  },
  {
   "cell_type": "code",
   "execution_count": 90,
   "metadata": {},
   "outputs": [
    {
     "data": {
      "text/plain": [
       "queen"
      ]
     },
     "execution_count": 90,
     "metadata": {},
     "output_type": "execute_result"
    }
   ],
   "source": [
    "spacy_text[0]"
   ]
  },
  {
   "cell_type": "code",
   "execution_count": 91,
   "metadata": {},
   "outputs": [
    {
     "name": "stdout",
     "output_type": "stream",
     "text": [
      "queen know 0.23805973\n",
      "queen antiquity 0.13954316\n",
      "queen posterity 0.0940259\n",
      "queen probably 0.23392698\n",
      "queen ill 0.24112208\n",
      "queen plainly 0.13126571\n",
      "queen day 0.22583804\n",
      "queen arranged 0.16365653\n",
      "queen create 0.12711608\n",
      "queen use 0.10462844\n",
      "one know 0.6638406\n",
      "one antiquity 0.15574029\n",
      "one posterity 0.21406326\n",
      "one probably 0.68213016\n",
      "one ill 0.4150426\n",
      "one plainly 0.33453116\n",
      "one day 0.5832917\n",
      "one arranged 0.3778583\n",
      "one create 0.47064194\n",
      "one use 0.5187773\n",
      "cities know 0.28537324\n",
      "cities antiquity 0.28732157\n",
      "cities posterity 0.10260976\n",
      "cities probably 0.3039254\n",
      "cities ill 0.16262354\n",
      "cities plainly 0.14544703\n",
      "cities day 0.28397027\n",
      "cities arranged 0.19345422\n",
      "cities create 0.28302506\n",
      "cities use 0.2254639\n",
      "packed know 0.24970748\n",
      "packed antiquity 0.058622047\n",
      "packed posterity 0.08346814\n",
      "packed probably 0.32096916\n",
      "packed ill 0.16002731\n",
      "packed plainly 0.17650807\n",
      "packed day 0.36919206\n",
      "packed arranged 0.35502332\n",
      "packed create 0.23777917\n",
      "packed use 0.21209633\n",
      "destined know 0.27380714\n",
      "destined antiquity 0.29518163\n",
      "destined posterity 0.36887106\n",
      "destined probably 0.40630385\n",
      "destined ill 0.30348867\n",
      "destined plainly 0.34389797\n",
      "destined day 0.23854597\n",
      "destined arranged 0.22488768\n",
      "destined create 0.29674226\n",
      "destined use 0.1775888\n",
      "design know 0.26582468\n",
      "design antiquity 0.08168121\n",
      "design posterity 0.011844215\n",
      "design probably 0.2191801\n",
      "design ill 0.068462275\n",
      "design plainly 0.11566456\n",
      "design day 0.21737087\n",
      "design arranged 0.1758647\n",
      "design create 0.5119139\n",
      "design use 0.37340862\n",
      "sighed know 0.21848272\n",
      "sighed antiquity 0.0486085\n",
      "sighed posterity 0.1657994\n",
      "sighed probably 0.20852262\n",
      "sighed ill 0.1508156\n",
      "sighed plainly 0.30335793\n",
      "sighed day 0.12938808\n",
      "sighed arranged 0.0709016\n",
      "sighed create -0.03458899\n",
      "sighed use -0.07883786\n",
      "n't know 0.8210698\n",
      "n't antiquity 0.042432304\n",
      "n't posterity 0.1289579\n",
      "n't probably 0.76827323\n",
      "n't ill 0.42242056\n",
      "n't plainly 0.31778246\n",
      "n't day 0.4549685\n",
      "n't arranged 0.16848019\n",
      "n't create 0.4327548\n",
      "n't use 0.5541814\n",
      "term know 0.34961873\n",
      "term antiquity 0.17208126\n",
      "term posterity 0.09599129\n",
      "term probably 0.428568\n",
      "term ill 0.2670891\n",
      "term plainly 0.26762614\n",
      "term day 0.3522414\n",
      "term arranged 0.19401869\n",
      "term create 0.2798067\n",
      "term use 0.43566605\n",
      "afloat know 0.17151754\n",
      "afloat antiquity 0.15499619\n",
      "afloat posterity 0.22717309\n",
      "afloat probably 0.2509159\n",
      "afloat ill 0.24373704\n",
      "afloat plainly 0.23418473\n",
      "afloat day 0.196111\n",
      "afloat arranged 0.15805565\n",
      "afloat create 0.17804475\n",
      "afloat use 0.06335418\n"
     ]
    }
   ],
   "source": [
    "for token1 in spacy_text[0:10]:\n",
    "    for token2 in spacy_text[10:20]:\n",
    "        print(token1.text, token2.text, token1.similarity(token2))"
   ]
  },
  {
   "cell_type": "code",
   "execution_count": 92,
   "metadata": {},
   "outputs": [
    {
     "data": {
      "text/html": [
       "<span class=\"tex2jax_ignore\"><div class=\"entities\" style=\"line-height: 2.5; direction: ltr\">queen \n",
       "<mark class=\"entity\" style=\"background: #e4e7d2; padding: 0.45em 0.6em; margin: 0 0.25em; line-height: 1; border-radius: 0.35em;\">\n",
       "    one\n",
       "    <span style=\"font-size: 0.8em; font-weight: bold; line-height: 1; border-radius: 0.35em; text-transform: uppercase; vertical-align: middle; margin-left: 0.5rem\">CARDINAL</span>\n",
       "</mark>\n",
       " cities packed destined design sighed n't term afloat know antiquity posterity probably ill plainly day arranged create use answer empty good scarfs examples would trial decided morals spare always worn small trumpet cache finds began mr sleepiness pros subdued joke chance incurred world rung brief top waved seriously enormity cache safe perceive cache military quite text become begin excessive desk multi feedback would influenced used opinion posts best rather get partially walls rational</div></span>"
      ],
      "text/plain": [
       "<IPython.core.display.HTML object>"
      ]
     },
     "metadata": {},
     "output_type": "display_data"
    }
   ],
   "source": [
    "from spacy import displacy\n",
    "displacy.render(spacy_text, style=\"ent\")"
   ]
  },
  {
   "cell_type": "code",
   "execution_count": null,
   "metadata": {},
   "outputs": [],
   "source": []
  }
 ],
 "metadata": {
  "kernelspec": {
   "display_name": "week9",
   "language": "python",
   "name": "week9"
  },
  "language_info": {
   "codemirror_mode": {
    "name": "ipython",
    "version": 3
   },
   "file_extension": ".py",
   "mimetype": "text/x-python",
   "name": "python",
   "nbconvert_exporter": "python",
   "pygments_lexer": "ipython3",
   "version": "3.7.6"
  }
 },
 "nbformat": 4,
 "nbformat_minor": 4
}
