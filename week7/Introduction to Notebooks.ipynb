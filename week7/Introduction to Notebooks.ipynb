{
 "cells": [
  {
   "cell_type": "code",
   "execution_count": 1,
   "metadata": {},
   "outputs": [],
   "source": [
    "def make_tool_dict(name, value_2015 , value_2016, value_2017,value_2018, value_2019):\n",
    "    tool = {\n",
    "        \"2015\":value_2015,\n",
    "        \"2016\":value_2016,\n",
    "        \"2017\":value_2017,\n",
    "        \"2018\":value_2018,\n",
    "        \"2019\":value_2019,\n",
    "        \"name\":name,\n",
    "        \"total\":value_2015+value_2016+value_2017+value_2018+value_2019\n",
    "    }\n",
    "    return tool"
   ]
  },
  {
   "cell_type": "code",
   "execution_count": 2,
   "metadata": {},
   "outputs": [
    {
     "data": {
      "text/plain": [
       "{'2015': 9,\n",
       " '2016': 22,\n",
       " '2017': 27,\n",
       " '2018': 32,\n",
       " '2019': 35,\n",
       " 'name': 'Python',\n",
       " 'total': 125}"
      ]
     },
     "execution_count": 2,
     "metadata": {},
     "output_type": "execute_result"
    }
   ],
   "source": [
    "make_tool_dict(\"Python\",9,22,27,32,35)"
   ]
  },
  {
   "cell_type": "code",
   "execution_count": 3,
   "metadata": {},
   "outputs": [],
   "source": [
    "tool1 = make_tool_dict(\"Python\",9,24,27,32,35)"
   ]
  },
  {
   "cell_type": "code",
   "execution_count": 4,
   "metadata": {},
   "outputs": [
    {
     "name": "stdout",
     "output_type": "stream",
     "text": [
      "{'2015': 9, '2016': 24, '2017': 27, '2018': 32, '2019': 35, 'name': 'Python', 'total': 127}\n"
     ]
    }
   ],
   "source": [
    "print(tool1)"
   ]
  },
  {
   "cell_type": "code",
   "execution_count": 5,
   "metadata": {},
   "outputs": [
    {
     "data": {
      "text/plain": [
       "{'2015': 9,\n",
       " '2016': 24,\n",
       " '2017': 27,\n",
       " '2018': 32,\n",
       " '2019': 35,\n",
       " 'name': 'Python',\n",
       " 'total': 127}"
      ]
     },
     "execution_count": 5,
     "metadata": {},
     "output_type": "execute_result"
    }
   ],
   "source": [
    "tool1"
   ]
  },
  {
   "cell_type": "code",
   "execution_count": 6,
   "metadata": {},
   "outputs": [
    {
     "data": {
      "text/plain": [
       "{'2015': 9,\n",
       " '2016': 24,\n",
       " '2017': 27,\n",
       " '2018': 32,\n",
       " '2019': 35,\n",
       " 'name': 'Python',\n",
       " 'total': 127}"
      ]
     },
     "execution_count": 6,
     "metadata": {},
     "output_type": "execute_result"
    }
   ],
   "source": [
    "tool1"
   ]
  },
  {
   "cell_type": "code",
   "execution_count": null,
   "metadata": {},
   "outputs": [],
   "source": []
  }
 ],
 "metadata": {
  "kernelspec": {
   "display_name": "Python 3",
   "language": "python",
   "name": "python3"
  },
  "language_info": {
   "codemirror_mode": {
    "name": "ipython",
    "version": 3
   },
   "file_extension": ".py",
   "mimetype": "text/x-python",
   "name": "python",
   "nbconvert_exporter": "python",
   "pygments_lexer": "ipython3",
   "version": "3.7.6"
  }
 },
 "nbformat": 4,
 "nbformat_minor": 4
}
