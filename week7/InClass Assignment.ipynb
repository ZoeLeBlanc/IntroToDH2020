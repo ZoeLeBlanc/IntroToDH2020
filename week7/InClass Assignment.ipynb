{
 "cells": [
  {
   "cell_type": "code",
   "execution_count": 1,
   "metadata": {},
   "outputs": [],
   "source": [
    "import pandas as pd\n",
    "import matplotlib as plt"
   ]
  },
  {
   "cell_type": "code",
   "execution_count": 2,
   "metadata": {},
   "outputs": [],
   "source": [
    "film_data = pd.read_csv('meta_data7.csv', encoding = \"ISO-8859-1\")\n",
    "ch_mapping = pd.read_csv('character_mapping.csv', encoding = \"ISO-8859-1\")\n",
    "ch_list = pd.read_csv('character_list5.csv', encoding = \"ISO-8859-1\")"
   ]
  },
  {
   "cell_type": "code",
   "execution_count": 3,
   "metadata": {},
   "outputs": [
    {
     "data": {
      "text/html": [
       "<div>\n",
       "<style scoped>\n",
       "    .dataframe tbody tr th:only-of-type {\n",
       "        vertical-align: middle;\n",
       "    }\n",
       "\n",
       "    .dataframe tbody tr th {\n",
       "        vertical-align: top;\n",
       "    }\n",
       "\n",
       "    .dataframe thead th {\n",
       "        text-align: right;\n",
       "    }\n",
       "</style>\n",
       "<table border=\"1\" class=\"dataframe\">\n",
       "  <thead>\n",
       "    <tr style=\"text-align: right;\">\n",
       "      <th></th>\n",
       "      <th>script_id</th>\n",
       "      <th>imdb_id</th>\n",
       "      <th>title</th>\n",
       "      <th>year</th>\n",
       "      <th>gross</th>\n",
       "      <th>lines_data</th>\n",
       "    </tr>\n",
       "  </thead>\n",
       "  <tbody>\n",
       "    <tr>\n",
       "      <th>0</th>\n",
       "      <td>1534</td>\n",
       "      <td>tt1022603</td>\n",
       "      <td>(500) Days of Summer</td>\n",
       "      <td>2009</td>\n",
       "      <td>37.0</td>\n",
       "      <td>7435445256774774443342577775657744434444564456...</td>\n",
       "    </tr>\n",
       "    <tr>\n",
       "      <th>1</th>\n",
       "      <td>1512</td>\n",
       "      <td>tt0147800</td>\n",
       "      <td>10 Things I Hate About You</td>\n",
       "      <td>1999</td>\n",
       "      <td>65.0</td>\n",
       "      <td>1777752320274533344457777722433777334443764677...</td>\n",
       "    </tr>\n",
       "    <tr>\n",
       "      <th>2</th>\n",
       "      <td>1514</td>\n",
       "      <td>tt0417385</td>\n",
       "      <td>12 and Holding</td>\n",
       "      <td>2005</td>\n",
       "      <td>NaN</td>\n",
       "      <td>5461357777754212454544441367774433446547647753...</td>\n",
       "    </tr>\n",
       "    <tr>\n",
       "      <th>3</th>\n",
       "      <td>1517</td>\n",
       "      <td>tt2024544</td>\n",
       "      <td>12 Years a Slave</td>\n",
       "      <td>2013</td>\n",
       "      <td>60.0</td>\n",
       "      <td>4567334777777777777777447777756477777444777777...</td>\n",
       "    </tr>\n",
       "    <tr>\n",
       "      <th>4</th>\n",
       "      <td>1520</td>\n",
       "      <td>tt1542344</td>\n",
       "      <td>127 Hours</td>\n",
       "      <td>2010</td>\n",
       "      <td>20.0</td>\n",
       "      <td>453513352345765766777777773340</td>\n",
       "    </tr>\n",
       "    <tr>\n",
       "      <th>...</th>\n",
       "      <td>...</td>\n",
       "      <td>...</td>\n",
       "      <td>...</td>\n",
       "      <td>...</td>\n",
       "      <td>...</td>\n",
       "      <td>...</td>\n",
       "    </tr>\n",
       "    <tr>\n",
       "      <th>1995</th>\n",
       "      <td>3765</td>\n",
       "      <td>tt0403702</td>\n",
       "      <td>Youth in Revolt</td>\n",
       "      <td>2009</td>\n",
       "      <td>17.0</td>\n",
       "      <td>7766777656545344243247443314443342644634343374...</td>\n",
       "    </tr>\n",
       "    <tr>\n",
       "      <th>1996</th>\n",
       "      <td>3766</td>\n",
       "      <td>tt1790885</td>\n",
       "      <td>Zero Dark Thirty</td>\n",
       "      <td>2012</td>\n",
       "      <td>104.0</td>\n",
       "      <td>5677677556654467677515744741445336433333000120...</td>\n",
       "    </tr>\n",
       "    <tr>\n",
       "      <th>1997</th>\n",
       "      <td>8158</td>\n",
       "      <td>tt0120906</td>\n",
       "      <td>Zero Effect</td>\n",
       "      <td>1998</td>\n",
       "      <td>3.0</td>\n",
       "      <td>4777774477777647777777777755677755423677777777...</td>\n",
       "    </tr>\n",
       "    <tr>\n",
       "      <th>1998</th>\n",
       "      <td>3768</td>\n",
       "      <td>tt0421090</td>\n",
       "      <td>Zerophilia</td>\n",
       "      <td>2005</td>\n",
       "      <td>NaN</td>\n",
       "      <td>7647774446763347777777763774163455777777777634...</td>\n",
       "    </tr>\n",
       "    <tr>\n",
       "      <th>1999</th>\n",
       "      <td>6491</td>\n",
       "      <td>tt0443706</td>\n",
       "      <td>Zodiac</td>\n",
       "      <td>2007</td>\n",
       "      <td>41.0</td>\n",
       "      <td>2447767766763567777777777777777766777777777777...</td>\n",
       "    </tr>\n",
       "  </tbody>\n",
       "</table>\n",
       "<p>2000 rows × 6 columns</p>\n",
       "</div>"
      ],
      "text/plain": [
       "      script_id    imdb_id                       title  year  gross  \\\n",
       "0          1534  tt1022603        (500) Days of Summer  2009   37.0   \n",
       "1          1512  tt0147800  10 Things I Hate About You  1999   65.0   \n",
       "2          1514  tt0417385              12 and Holding  2005    NaN   \n",
       "3          1517  tt2024544            12 Years a Slave  2013   60.0   \n",
       "4          1520  tt1542344                   127 Hours  2010   20.0   \n",
       "...         ...        ...                         ...   ...    ...   \n",
       "1995       3765  tt0403702             Youth in Revolt  2009   17.0   \n",
       "1996       3766  tt1790885            Zero Dark Thirty  2012  104.0   \n",
       "1997       8158  tt0120906                 Zero Effect  1998    3.0   \n",
       "1998       3768  tt0421090                  Zerophilia  2005    NaN   \n",
       "1999       6491  tt0443706                      Zodiac  2007   41.0   \n",
       "\n",
       "                                             lines_data  \n",
       "0     7435445256774774443342577775657744434444564456...  \n",
       "1     1777752320274533344457777722433777334443764677...  \n",
       "2     5461357777754212454544441367774433446547647753...  \n",
       "3     4567334777777777777777447777756477777444777777...  \n",
       "4                        453513352345765766777777773340  \n",
       "...                                                 ...  \n",
       "1995  7766777656545344243247443314443342644634343374...  \n",
       "1996  5677677556654467677515744741445336433333000120...  \n",
       "1997  4777774477777647777777777755677755423677777777...  \n",
       "1998  7647774446763347777777763774163455777777777634...  \n",
       "1999  2447767766763567777777777777777766777777777777...  \n",
       "\n",
       "[2000 rows x 6 columns]"
      ]
     },
     "execution_count": 3,
     "metadata": {},
     "output_type": "execute_result"
    }
   ],
   "source": [
    "film_data"
   ]
  },
  {
   "cell_type": "code",
   "execution_count": 7,
   "metadata": {},
   "outputs": [
    {
     "data": {
      "text/html": [
       "<div>\n",
       "<style scoped>\n",
       "    .dataframe tbody tr th:only-of-type {\n",
       "        vertical-align: middle;\n",
       "    }\n",
       "\n",
       "    .dataframe tbody tr th {\n",
       "        vertical-align: top;\n",
       "    }\n",
       "\n",
       "    .dataframe thead th {\n",
       "        text-align: right;\n",
       "    }\n",
       "</style>\n",
       "<table border=\"1\" class=\"dataframe\">\n",
       "  <thead>\n",
       "    <tr style=\"text-align: right;\">\n",
       "      <th></th>\n",
       "      <th>script_id</th>\n",
       "      <th>imdb_id</th>\n",
       "      <th>character_from_script</th>\n",
       "      <th>closest_character_name_from_imdb_match</th>\n",
       "      <th>closest_imdb_character_id</th>\n",
       "    </tr>\n",
       "  </thead>\n",
       "  <tbody>\n",
       "    <tr>\n",
       "      <th>0</th>\n",
       "      <td>1</td>\n",
       "      <td>tt0147800</td>\n",
       "      <td>bianca</td>\n",
       "      <td>bianca stratford</td>\n",
       "      <td>nm0646351</td>\n",
       "    </tr>\n",
       "    <tr>\n",
       "      <th>1</th>\n",
       "      <td>1</td>\n",
       "      <td>tt0147800</td>\n",
       "      <td>cameron</td>\n",
       "      <td>cameron james</td>\n",
       "      <td>nm0330687</td>\n",
       "    </tr>\n",
       "    <tr>\n",
       "      <th>2</th>\n",
       "      <td>1</td>\n",
       "      <td>tt0147800</td>\n",
       "      <td>chastity</td>\n",
       "      <td>chastity</td>\n",
       "      <td>nm0005517</td>\n",
       "    </tr>\n",
       "    <tr>\n",
       "      <th>3</th>\n",
       "      <td>1</td>\n",
       "      <td>tt0147800</td>\n",
       "      <td>joey</td>\n",
       "      <td>joey donner</td>\n",
       "      <td>nm0005080</td>\n",
       "    </tr>\n",
       "    <tr>\n",
       "      <th>4</th>\n",
       "      <td>1</td>\n",
       "      <td>tt0147800</td>\n",
       "      <td>kat</td>\n",
       "      <td>kat stratford</td>\n",
       "      <td>nm0005466</td>\n",
       "    </tr>\n",
       "    <tr>\n",
       "      <th>...</th>\n",
       "      <td>...</td>\n",
       "      <td>...</td>\n",
       "      <td>...</td>\n",
       "      <td>...</td>\n",
       "      <td>...</td>\n",
       "    </tr>\n",
       "    <tr>\n",
       "      <th>99385</th>\n",
       "      <td>9254</td>\n",
       "      <td>tt0101414</td>\n",
       "      <td>lumiere</td>\n",
       "      <td>lumiere</td>\n",
       "      <td>nm0001583</td>\n",
       "    </tr>\n",
       "    <tr>\n",
       "      <th>99386</th>\n",
       "      <td>9254</td>\n",
       "      <td>tt0101414</td>\n",
       "      <td>maurice</td>\n",
       "      <td>maurice</td>\n",
       "      <td>nm0263591</td>\n",
       "    </tr>\n",
       "    <tr>\n",
       "      <th>99387</th>\n",
       "      <td>9254</td>\n",
       "      <td>tt0101414</td>\n",
       "      <td>mrs potts</td>\n",
       "      <td>mrs. potts</td>\n",
       "      <td>nm0001450</td>\n",
       "    </tr>\n",
       "    <tr>\n",
       "      <th>99388</th>\n",
       "      <td>9254</td>\n",
       "      <td>tt0101414</td>\n",
       "      <td>townsfolk</td>\n",
       "      <td>NaN</td>\n",
       "      <td>nm0621121</td>\n",
       "    </tr>\n",
       "    <tr>\n",
       "      <th>99389</th>\n",
       "      <td>9254</td>\n",
       "      <td>tt0101414</td>\n",
       "      <td>wardrobe</td>\n",
       "      <td>wardrobe</td>\n",
       "      <td>nm0941506</td>\n",
       "    </tr>\n",
       "  </tbody>\n",
       "</table>\n",
       "<p>99390 rows × 5 columns</p>\n",
       "</div>"
      ],
      "text/plain": [
       "       script_id    imdb_id character_from_script  \\\n",
       "0              1  tt0147800                bianca   \n",
       "1              1  tt0147800               cameron   \n",
       "2              1  tt0147800              chastity   \n",
       "3              1  tt0147800                  joey   \n",
       "4              1  tt0147800                   kat   \n",
       "...          ...        ...                   ...   \n",
       "99385       9254  tt0101414               lumiere   \n",
       "99386       9254  tt0101414               maurice   \n",
       "99387       9254  tt0101414             mrs potts   \n",
       "99388       9254  tt0101414             townsfolk   \n",
       "99389       9254  tt0101414              wardrobe   \n",
       "\n",
       "      closest_character_name_from_imdb_match closest_imdb_character_id  \n",
       "0                           bianca stratford                 nm0646351  \n",
       "1                              cameron james                 nm0330687  \n",
       "2                                   chastity                 nm0005517  \n",
       "3                                joey donner                 nm0005080  \n",
       "4                              kat stratford                 nm0005466  \n",
       "...                                      ...                       ...  \n",
       "99385                                lumiere                 nm0001583  \n",
       "99386                                maurice                 nm0263591  \n",
       "99387                             mrs. potts                 nm0001450  \n",
       "99388                                    NaN                 nm0621121  \n",
       "99389                               wardrobe                 nm0941506  \n",
       "\n",
       "[99390 rows x 5 columns]"
      ]
     },
     "execution_count": 7,
     "metadata": {},
     "output_type": "execute_result"
    }
   ],
   "source": [
    "ch_mapping"
   ]
  },
  {
   "cell_type": "code",
   "execution_count": 8,
   "metadata": {},
   "outputs": [
    {
     "data": {
      "text/html": [
       "<div>\n",
       "<style scoped>\n",
       "    .dataframe tbody tr th:only-of-type {\n",
       "        vertical-align: middle;\n",
       "    }\n",
       "\n",
       "    .dataframe tbody tr th {\n",
       "        vertical-align: top;\n",
       "    }\n",
       "\n",
       "    .dataframe thead th {\n",
       "        text-align: right;\n",
       "    }\n",
       "</style>\n",
       "<table border=\"1\" class=\"dataframe\">\n",
       "  <thead>\n",
       "    <tr style=\"text-align: right;\">\n",
       "      <th></th>\n",
       "      <th>script_id</th>\n",
       "      <th>imdb_character_name</th>\n",
       "      <th>words</th>\n",
       "      <th>gender</th>\n",
       "      <th>age</th>\n",
       "    </tr>\n",
       "  </thead>\n",
       "  <tbody>\n",
       "    <tr>\n",
       "      <th>0</th>\n",
       "      <td>280</td>\n",
       "      <td>betty</td>\n",
       "      <td>311</td>\n",
       "      <td>f</td>\n",
       "      <td>35.0</td>\n",
       "    </tr>\n",
       "    <tr>\n",
       "      <th>1</th>\n",
       "      <td>280</td>\n",
       "      <td>carolyn johnson</td>\n",
       "      <td>873</td>\n",
       "      <td>f</td>\n",
       "      <td>NaN</td>\n",
       "    </tr>\n",
       "    <tr>\n",
       "      <th>2</th>\n",
       "      <td>280</td>\n",
       "      <td>eleanor</td>\n",
       "      <td>138</td>\n",
       "      <td>f</td>\n",
       "      <td>NaN</td>\n",
       "    </tr>\n",
       "    <tr>\n",
       "      <th>3</th>\n",
       "      <td>280</td>\n",
       "      <td>francesca johns</td>\n",
       "      <td>2251</td>\n",
       "      <td>f</td>\n",
       "      <td>46.0</td>\n",
       "    </tr>\n",
       "    <tr>\n",
       "      <th>4</th>\n",
       "      <td>280</td>\n",
       "      <td>madge</td>\n",
       "      <td>190</td>\n",
       "      <td>f</td>\n",
       "      <td>46.0</td>\n",
       "    </tr>\n",
       "    <tr>\n",
       "      <th>...</th>\n",
       "      <td>...</td>\n",
       "      <td>...</td>\n",
       "      <td>...</td>\n",
       "      <td>...</td>\n",
       "      <td>...</td>\n",
       "    </tr>\n",
       "    <tr>\n",
       "      <th>23043</th>\n",
       "      <td>9254</td>\n",
       "      <td>lumiere</td>\n",
       "      <td>1063</td>\n",
       "      <td>m</td>\n",
       "      <td>56.0</td>\n",
       "    </tr>\n",
       "    <tr>\n",
       "      <th>23044</th>\n",
       "      <td>9254</td>\n",
       "      <td>maurice</td>\n",
       "      <td>1107</td>\n",
       "      <td>m</td>\n",
       "      <td>71.0</td>\n",
       "    </tr>\n",
       "    <tr>\n",
       "      <th>23045</th>\n",
       "      <td>9254</td>\n",
       "      <td>monsieur d'arqu</td>\n",
       "      <td>114</td>\n",
       "      <td>m</td>\n",
       "      <td>58.0</td>\n",
       "    </tr>\n",
       "    <tr>\n",
       "      <th>23046</th>\n",
       "      <td>9254</td>\n",
       "      <td>mrs. potts</td>\n",
       "      <td>564</td>\n",
       "      <td>f</td>\n",
       "      <td>66.0</td>\n",
       "    </tr>\n",
       "    <tr>\n",
       "      <th>23047</th>\n",
       "      <td>9254</td>\n",
       "      <td>wardrobe</td>\n",
       "      <td>121</td>\n",
       "      <td>f</td>\n",
       "      <td>54.0</td>\n",
       "    </tr>\n",
       "  </tbody>\n",
       "</table>\n",
       "<p>23048 rows × 5 columns</p>\n",
       "</div>"
      ],
      "text/plain": [
       "       script_id imdb_character_name  words gender   age\n",
       "0            280               betty    311      f  35.0\n",
       "1            280     carolyn johnson    873      f   NaN\n",
       "2            280             eleanor    138      f   NaN\n",
       "3            280     francesca johns   2251      f  46.0\n",
       "4            280               madge    190      f  46.0\n",
       "...          ...                 ...    ...    ...   ...\n",
       "23043       9254             lumiere   1063      m  56.0\n",
       "23044       9254             maurice   1107      m  71.0\n",
       "23045       9254     monsieur d'arqu    114      m  58.0\n",
       "23046       9254          mrs. potts    564      f  66.0\n",
       "23047       9254            wardrobe    121      f  54.0\n",
       "\n",
       "[23048 rows x 5 columns]"
      ]
     },
     "execution_count": 8,
     "metadata": {},
     "output_type": "execute_result"
    }
   ],
   "source": [
    "ch_list"
   ]
  },
  {
   "cell_type": "code",
   "execution_count": 11,
   "metadata": {},
   "outputs": [
    {
     "data": {
      "text/plain": [
       "True"
      ]
     },
     "execution_count": 11,
     "metadata": {},
     "output_type": "execute_result"
    }
   ],
   "source": [
    "ch_list.imdb_character_name.isna().any()"
   ]
  },
  {
   "cell_type": "code",
   "execution_count": 12,
   "metadata": {},
   "outputs": [
    {
     "data": {
      "text/html": [
       "<div>\n",
       "<style scoped>\n",
       "    .dataframe tbody tr th:only-of-type {\n",
       "        vertical-align: middle;\n",
       "    }\n",
       "\n",
       "    .dataframe tbody tr th {\n",
       "        vertical-align: top;\n",
       "    }\n",
       "\n",
       "    .dataframe thead th {\n",
       "        text-align: right;\n",
       "    }\n",
       "</style>\n",
       "<table border=\"1\" class=\"dataframe\">\n",
       "  <thead>\n",
       "    <tr style=\"text-align: right;\">\n",
       "      <th></th>\n",
       "      <th>script_id</th>\n",
       "      <th>imdb_character_name</th>\n",
       "      <th>words</th>\n",
       "      <th>gender</th>\n",
       "      <th>age</th>\n",
       "    </tr>\n",
       "  </thead>\n",
       "  <tbody>\n",
       "    <tr>\n",
       "      <th>4656</th>\n",
       "      <td>1807</td>\n",
       "      <td>NaN</td>\n",
       "      <td>146</td>\n",
       "      <td>f</td>\n",
       "      <td>NaN</td>\n",
       "    </tr>\n",
       "    <tr>\n",
       "      <th>19448</th>\n",
       "      <td>7445</td>\n",
       "      <td>NaN</td>\n",
       "      <td>520</td>\n",
       "      <td>f</td>\n",
       "      <td>NaN</td>\n",
       "    </tr>\n",
       "  </tbody>\n",
       "</table>\n",
       "</div>"
      ],
      "text/plain": [
       "       script_id imdb_character_name  words gender  age\n",
       "4656        1807                 NaN    146      f  NaN\n",
       "19448       7445                 NaN    520      f  NaN"
      ]
     },
     "execution_count": 12,
     "metadata": {},
     "output_type": "execute_result"
    }
   ],
   "source": [
    "ch_list[ch_list.imdb_character_name.isna()]"
   ]
  },
  {
   "cell_type": "markdown",
   "metadata": {},
   "source": [
    "How could we tell if the amount of dialogue was increasing over time in movies? How might this influence the assessment about the breakdown of gender dialogue?\n",
    "How could test if there was any relationship between the film's gross value and the amount of dialogue in the film?"
   ]
  },
  {
   "cell_type": "code",
   "execution_count": 4,
   "metadata": {},
   "outputs": [],
   "source": [
    "# How could we tell if the amount of dialogue was increasing over time in movies?"
   ]
  },
  {
   "cell_type": "code",
   "execution_count": 6,
   "metadata": {},
   "outputs": [
    {
     "data": {
      "text/plain": [
       "['script_id', 'imdb_character_name', 'words', 'gender', 'age']"
      ]
     },
     "execution_count": 6,
     "metadata": {},
     "output_type": "execute_result"
    }
   ],
   "source": [
    "ch_list.columns.tolist()"
   ]
  },
  {
   "cell_type": "code",
   "execution_count": 8,
   "metadata": {},
   "outputs": [
    {
     "data": {
      "text/plain": [
       "['f', 'm', '?']"
      ]
     },
     "execution_count": 8,
     "metadata": {},
     "output_type": "execute_result"
    }
   ],
   "source": [
    "ch_list.gender.unique().tolist()"
   ]
  },
  {
   "cell_type": "code",
   "execution_count": 12,
   "metadata": {},
   "outputs": [],
   "source": [
    "script_dialogue = ch_list.groupby('script_id')['words'].sum().reset_index(name=\"total_dialogue\")"
   ]
  },
  {
   "cell_type": "code",
   "execution_count": 15,
   "metadata": {},
   "outputs": [],
   "source": [
    "film_dialogue = pd.merge(film_data, script_dialogue, on='script_id')"
   ]
  },
  {
   "cell_type": "code",
   "execution_count": 14,
   "metadata": {},
   "outputs": [
    {
     "data": {
      "text/plain": [
       "(2000, 2000)"
      ]
     },
     "execution_count": 14,
     "metadata": {},
     "output_type": "execute_result"
    }
   ],
   "source": [
    "len(film_data), len(script_dialogue)"
   ]
  },
  {
   "cell_type": "code",
   "execution_count": 19,
   "metadata": {},
   "outputs": [
    {
     "data": {
      "text/html": [
       "<div>\n",
       "<style scoped>\n",
       "    .dataframe tbody tr th:only-of-type {\n",
       "        vertical-align: middle;\n",
       "    }\n",
       "\n",
       "    .dataframe tbody tr th {\n",
       "        vertical-align: top;\n",
       "    }\n",
       "\n",
       "    .dataframe thead th {\n",
       "        text-align: right;\n",
       "    }\n",
       "</style>\n",
       "<table border=\"1\" class=\"dataframe\">\n",
       "  <thead>\n",
       "    <tr style=\"text-align: right;\">\n",
       "      <th></th>\n",
       "      <th>script_id</th>\n",
       "      <th>imdb_id</th>\n",
       "      <th>title</th>\n",
       "      <th>year</th>\n",
       "      <th>gross</th>\n",
       "      <th>lines_data</th>\n",
       "      <th>total_dialogue</th>\n",
       "    </tr>\n",
       "  </thead>\n",
       "  <tbody>\n",
       "    <tr>\n",
       "      <th>0</th>\n",
       "      <td>1534</td>\n",
       "      <td>tt1022603</td>\n",
       "      <td>(500) Days of Summer</td>\n",
       "      <td>2009</td>\n",
       "      <td>37.0</td>\n",
       "      <td>7435445256774774443342577775657744434444564456...</td>\n",
       "      <td>18500</td>\n",
       "    </tr>\n",
       "    <tr>\n",
       "      <th>1</th>\n",
       "      <td>1512</td>\n",
       "      <td>tt0147800</td>\n",
       "      <td>10 Things I Hate About You</td>\n",
       "      <td>1999</td>\n",
       "      <td>65.0</td>\n",
       "      <td>1777752320274533344457777722433777334443764677...</td>\n",
       "      <td>19680</td>\n",
       "    </tr>\n",
       "    <tr>\n",
       "      <th>2</th>\n",
       "      <td>1514</td>\n",
       "      <td>tt0417385</td>\n",
       "      <td>12 and Holding</td>\n",
       "      <td>2005</td>\n",
       "      <td>NaN</td>\n",
       "      <td>5461357777754212454544441367774433446547647753...</td>\n",
       "      <td>15968</td>\n",
       "    </tr>\n",
       "    <tr>\n",
       "      <th>3</th>\n",
       "      <td>1517</td>\n",
       "      <td>tt2024544</td>\n",
       "      <td>12 Years a Slave</td>\n",
       "      <td>2013</td>\n",
       "      <td>60.0</td>\n",
       "      <td>4567334777777777777777447777756477777444777777...</td>\n",
       "      <td>19628</td>\n",
       "    </tr>\n",
       "    <tr>\n",
       "      <th>4</th>\n",
       "      <td>1520</td>\n",
       "      <td>tt1542344</td>\n",
       "      <td>127 Hours</td>\n",
       "      <td>2010</td>\n",
       "      <td>20.0</td>\n",
       "      <td>453513352345765766777777773340</td>\n",
       "      <td>5145</td>\n",
       "    </tr>\n",
       "    <tr>\n",
       "      <th>...</th>\n",
       "      <td>...</td>\n",
       "      <td>...</td>\n",
       "      <td>...</td>\n",
       "      <td>...</td>\n",
       "      <td>...</td>\n",
       "      <td>...</td>\n",
       "      <td>...</td>\n",
       "    </tr>\n",
       "    <tr>\n",
       "      <th>1995</th>\n",
       "      <td>3765</td>\n",
       "      <td>tt0403702</td>\n",
       "      <td>Youth in Revolt</td>\n",
       "      <td>2009</td>\n",
       "      <td>17.0</td>\n",
       "      <td>7766777656545344243247443314443342644634343374...</td>\n",
       "      <td>33810</td>\n",
       "    </tr>\n",
       "    <tr>\n",
       "      <th>1996</th>\n",
       "      <td>3766</td>\n",
       "      <td>tt1790885</td>\n",
       "      <td>Zero Dark Thirty</td>\n",
       "      <td>2012</td>\n",
       "      <td>104.0</td>\n",
       "      <td>5677677556654467677515744741445336433333000120...</td>\n",
       "      <td>13216</td>\n",
       "    </tr>\n",
       "    <tr>\n",
       "      <th>1997</th>\n",
       "      <td>8158</td>\n",
       "      <td>tt0120906</td>\n",
       "      <td>Zero Effect</td>\n",
       "      <td>1998</td>\n",
       "      <td>3.0</td>\n",
       "      <td>4777774477777647777777777755677755423677777777...</td>\n",
       "      <td>13927</td>\n",
       "    </tr>\n",
       "    <tr>\n",
       "      <th>1998</th>\n",
       "      <td>3768</td>\n",
       "      <td>tt0421090</td>\n",
       "      <td>Zerophilia</td>\n",
       "      <td>2005</td>\n",
       "      <td>NaN</td>\n",
       "      <td>7647774446763347777777763774163455777777777634...</td>\n",
       "      <td>16686</td>\n",
       "    </tr>\n",
       "    <tr>\n",
       "      <th>1999</th>\n",
       "      <td>6491</td>\n",
       "      <td>tt0443706</td>\n",
       "      <td>Zodiac</td>\n",
       "      <td>2007</td>\n",
       "      <td>41.0</td>\n",
       "      <td>2447767766763567777777777777777766777777777777...</td>\n",
       "      <td>14656</td>\n",
       "    </tr>\n",
       "  </tbody>\n",
       "</table>\n",
       "<p>2000 rows × 7 columns</p>\n",
       "</div>"
      ],
      "text/plain": [
       "      script_id    imdb_id                       title  year  gross  \\\n",
       "0          1534  tt1022603        (500) Days of Summer  2009   37.0   \n",
       "1          1512  tt0147800  10 Things I Hate About You  1999   65.0   \n",
       "2          1514  tt0417385              12 and Holding  2005    NaN   \n",
       "3          1517  tt2024544            12 Years a Slave  2013   60.0   \n",
       "4          1520  tt1542344                   127 Hours  2010   20.0   \n",
       "...         ...        ...                         ...   ...    ...   \n",
       "1995       3765  tt0403702             Youth in Revolt  2009   17.0   \n",
       "1996       3766  tt1790885            Zero Dark Thirty  2012  104.0   \n",
       "1997       8158  tt0120906                 Zero Effect  1998    3.0   \n",
       "1998       3768  tt0421090                  Zerophilia  2005    NaN   \n",
       "1999       6491  tt0443706                      Zodiac  2007   41.0   \n",
       "\n",
       "                                             lines_data  total_dialogue  \n",
       "0     7435445256774774443342577775657744434444564456...           18500  \n",
       "1     1777752320274533344457777722433777334443764677...           19680  \n",
       "2     5461357777754212454544441367774433446547647753...           15968  \n",
       "3     4567334777777777777777447777756477777444777777...           19628  \n",
       "4                        453513352345765766777777773340            5145  \n",
       "...                                                 ...             ...  \n",
       "1995  7766777656545344243247443314443342644634343374...           33810  \n",
       "1996  5677677556654467677515744741445336433333000120...           13216  \n",
       "1997  4777774477777647777777777755677755423677777777...           13927  \n",
       "1998  7647774446763347777777763774163455777777777634...           16686  \n",
       "1999  2447767766763567777777777777777766777777777777...           14656  \n",
       "\n",
       "[2000 rows x 7 columns]"
      ]
     },
     "execution_count": 19,
     "metadata": {},
     "output_type": "execute_result"
    }
   ],
   "source": [
    "film_dialogue"
   ]
  },
  {
   "cell_type": "code",
   "execution_count": 21,
   "metadata": {},
   "outputs": [
    {
     "data": {
      "text/plain": [
       "<matplotlib.axes._subplots.AxesSubplot at 0x11b18ebd0>"
      ]
     },
     "execution_count": 21,
     "metadata": {},
     "output_type": "execute_result"
    },
    {
     "data": {
      "image/png": "[encoded data removed]",
      "text/plain": [
       "<Figure size 432x288 with 1 Axes>"
      ]
     },
     "metadata": {
      "needs_background": "light"
     },
     "output_type": "display_data"
    }
   ],
   "source": [
    "film_dialogue.plot.scatter(x='year', y='total_dialogue')"
   ]
  },
  {
   "cell_type": "code",
   "execution_count": 22,
   "metadata": {},
   "outputs": [
    {
     "data": {
      "text/plain": [
       "<matplotlib.axes._subplots.AxesSubplot at 0x11572df50>"
      ]
     },
     "execution_count": 22,
     "metadata": {},
     "output_type": "execute_result"
    },
    {
     "data": {
      "image/png": "[encoded data removed]",
      "text/plain": [
       "<Figure size 432x288 with 1 Axes>"
      ]
     },
     "metadata": {
      "needs_background": "light"
     },
     "output_type": "display_data"
    }
   ],
   "source": [
    "film_dialogue.plot.scatter(x='gross', y='total_dialogue')"
   ]
  },
  {
   "cell_type": "code",
   "execution_count": 24,
   "metadata": {},
   "outputs": [],
   "source": [
    "gross_dialogue = film_dialogue[film_dialogue.gross > 0]"
   ]
  },
  {
   "cell_type": "code",
   "execution_count": 25,
   "metadata": {},
   "outputs": [
    {
     "data": {
      "text/plain": [
       "<matplotlib.axes._subplots.AxesSubplot at 0x114898bd0>"
      ]
     },
     "execution_count": 25,
     "metadata": {},
     "output_type": "execute_result"
    },
    {
     "data": {
      "image/png": "[encoded data removed]",
      "text/plain": [
       "<Figure size 432x288 with 1 Axes>"
      ]
     },
     "metadata": {
      "needs_background": "light"
     },
     "output_type": "display_data"
    }
   ],
   "source": [
    "gross_dialogue.plot.scatter(x='gross', y='total_dialogue')"
   ]
  },
  {
   "cell_type": "code",
   "execution_count": null,
   "metadata": {},
   "outputs": [],
   "source": []
  }
 ],
 "metadata": {
  "kernelspec": {
   "display_name": "Python 3",
   "language": "python",
   "name": "python3"
  },
  "language_info": {
   "codemirror_mode": {
    "name": "ipython",
    "version": 3
   },
   "file_extension": ".py",
   "mimetype": "text/x-python",
   "name": "python",
   "nbconvert_exporter": "python",
   "pygments_lexer": "ipython3",
   "version": "3.7.6"
  }
 },
 "nbformat": 4,
 "nbformat_minor": 4
}
